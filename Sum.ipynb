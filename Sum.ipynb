{
 "cells": [
  {
   "cell_type": "code",
   "execution_count": 65,
   "metadata": {},
   "outputs": [],
   "source": [
    "def ReadNumbersFromFile(path:str):\n",
    "    fa = open(path,'r')\n",
    "    return list([int(f.replace('\\n','')) for f in fa])\n",
    "\n",
    "def Sum(fileA:str,fileB:str):\n",
    "    a = ReadNumbersFromFile(fileA)\n",
    "    l = ReadNumbersFromFile(fileB)\n",
    "    listNumbers = list(filter(lambda x: len([y for y in a if x%y==0])>0,l))\n",
    "    return sum(listNumbers)"
   ]
  },
  {
   "cell_type": "code",
   "execution_count": null,
   "metadata": {},
   "outputs": [],
   "source": []
  },
  {
   "cell_type": "code",
   "execution_count": 66,
   "metadata": {},
   "outputs": [
    {
     "ename": "ValueError",
     "evalue": "invalid literal for int() with base 10: '100 1 2 3'",
     "output_type": "error",
     "traceback": [
      "\u001b[1;31m---------------------------------------------------------------------------\u001b[0m",
      "\u001b[1;31mValueError\u001b[0m                                Traceback (most recent call last)",
      "Cell \u001b[1;32mIn[66], line 1\u001b[0m\n\u001b[1;32m----> 1\u001b[0m Sum(\u001b[39m'\u001b[39;49m\u001b[39ma.txt\u001b[39;49m\u001b[39m'\u001b[39;49m,\u001b[39m'\u001b[39;49m\u001b[39mb.txt\u001b[39;49m\u001b[39m'\u001b[39;49m)\n",
      "Cell \u001b[1;32mIn[65], line 6\u001b[0m, in \u001b[0;36mSum\u001b[1;34m(fileA, fileB)\u001b[0m\n\u001b[0;32m      5\u001b[0m \u001b[39mdef\u001b[39;00m \u001b[39mSum\u001b[39m(fileA:\u001b[39mstr\u001b[39m,fileB:\u001b[39mstr\u001b[39m):\n\u001b[1;32m----> 6\u001b[0m     a \u001b[39m=\u001b[39m ReadNumbersFromFile(fileA)\n\u001b[0;32m      7\u001b[0m     l \u001b[39m=\u001b[39m ReadNumbersFromFile(fileB)\n\u001b[0;32m      8\u001b[0m     listNumbers \u001b[39m=\u001b[39m \u001b[39mlist\u001b[39m(\u001b[39mfilter\u001b[39m(\u001b[39mlambda\u001b[39;00m x: \u001b[39mlen\u001b[39m([y \u001b[39mfor\u001b[39;00m y \u001b[39min\u001b[39;00m a \u001b[39mif\u001b[39;00m x\u001b[39m%\u001b[39my\u001b[39m==\u001b[39m\u001b[39m0\u001b[39m])\u001b[39m>\u001b[39m\u001b[39m0\u001b[39m,l))\n",
      "Cell \u001b[1;32mIn[65], line 3\u001b[0m, in \u001b[0;36mReadNumbersFromFile\u001b[1;34m(path)\u001b[0m\n\u001b[0;32m      1\u001b[0m \u001b[39mdef\u001b[39;00m \u001b[39mReadNumbersFromFile\u001b[39m(path:\u001b[39mstr\u001b[39m):\n\u001b[0;32m      2\u001b[0m     fa \u001b[39m=\u001b[39m \u001b[39mopen\u001b[39m(path,\u001b[39m'\u001b[39m\u001b[39mr\u001b[39m\u001b[39m'\u001b[39m)\n\u001b[1;32m----> 3\u001b[0m     \u001b[39mreturn\u001b[39;00m \u001b[39mlist\u001b[39m([\u001b[39mint\u001b[39m(f\u001b[39m.\u001b[39mreplace(\u001b[39m'\u001b[39m\u001b[39m\\n\u001b[39;00m\u001b[39m'\u001b[39m,\u001b[39m'\u001b[39m\u001b[39m'\u001b[39m)) \u001b[39mfor\u001b[39;00m f \u001b[39min\u001b[39;00m fa])\n",
      "Cell \u001b[1;32mIn[65], line 3\u001b[0m, in \u001b[0;36m<listcomp>\u001b[1;34m(.0)\u001b[0m\n\u001b[0;32m      1\u001b[0m \u001b[39mdef\u001b[39;00m \u001b[39mReadNumbersFromFile\u001b[39m(path:\u001b[39mstr\u001b[39m):\n\u001b[0;32m      2\u001b[0m     fa \u001b[39m=\u001b[39m \u001b[39mopen\u001b[39m(path,\u001b[39m'\u001b[39m\u001b[39mr\u001b[39m\u001b[39m'\u001b[39m)\n\u001b[1;32m----> 3\u001b[0m     \u001b[39mreturn\u001b[39;00m \u001b[39mlist\u001b[39m([\u001b[39mint\u001b[39;49m(f\u001b[39m.\u001b[39;49mreplace(\u001b[39m'\u001b[39;49m\u001b[39m\\n\u001b[39;49;00m\u001b[39m'\u001b[39;49m,\u001b[39m'\u001b[39;49m\u001b[39m'\u001b[39;49m)) \u001b[39mfor\u001b[39;00m f \u001b[39min\u001b[39;00m fa])\n",
      "\u001b[1;31mValueError\u001b[0m: invalid literal for int() with base 10: '100 1 2 3'"
     ]
    }
   ],
   "source": [
    "Sum('a.txt','b.txt')"
   ]
  },
  {
   "cell_type": "code",
   "execution_count": null,
   "metadata": {},
   "outputs": [],
   "source": [
    "def SumList(a: list, l: list):\n",
    "    listNumbers = list(filter(lambda x: len(\n",
    "        [y for y in a if x % y == 0]) > 0, l))\n",
    "    return sum(listNumbers)"
   ]
  },
  {
   "cell_type": "code",
   "execution_count": null,
   "metadata": {},
   "outputs": [
    {
     "name": "stdout",
     "output_type": "stream",
     "text": [
      "136\n"
     ]
    }
   ],
   "source": [
    "print(Sum(ReadNumbersFromFile('a.txt'),ReadNumbersFromFile('b.txt')))"
   ]
  },
  {
   "cell_type": "code",
   "execution_count": null,
   "metadata": {},
   "outputs": [],
   "source": [
    "from math import sqrt\n",
    " \n",
    " \n",
    "def isPrime(n):\n",
    "    if (n <= 1):\n",
    "        return False\n",
    "    for i in range(2, int(sqrt(n))+1):\n",
    "        if (n % i == 0):\n",
    "            return False\n",
    " \n",
    "    return True"
   ]
  },
  {
   "cell_type": "code",
   "execution_count": null,
   "metadata": {},
   "outputs": [],
   "source": [
    "def GetNPrime(n):\n",
    "    i = 1\n",
    "    j = 1\n",
    "    latestPrime = 13\n",
    "    while (i <= n):\n",
    "        if (j % 5 != 0 or j % 2 != 0):\n",
    "            if (isPrime(j)):\n",
    "                i += 1\n",
    "                latestPrime = j\n",
    "        j += 1\n",
    "    return j-1\n"
   ]
  },
  {
   "cell_type": "code",
   "execution_count": null,
   "metadata": {},
   "outputs": [
    {
     "name": "stdout",
     "output_type": "stream",
     "text": [
      "1299721\n"
     ]
    }
   ],
   "source": [
    "print(GetNPrime(100001))\n",
    "\n"
   ]
  },
  {
   "cell_type": "code",
   "execution_count": 3,
   "metadata": {},
   "outputs": [],
   "source": [
    "def SumList(a: list, l: list):\n",
    "    listNumbers = list(filter(lambda x: len(\n",
    "        [y for y in a if x % y == 0]) > 0, l))\n",
    "    return sum(listNumbers)"
   ]
  },
  {
   "cell_type": "code",
   "execution_count": 9,
   "metadata": {},
   "outputs": [],
   "source": [
    "def AddNWrite(inputFile:str,outputFile:str):\n",
    "    fa = open(inputFile,'r')\n",
    "    lista = fa.readlines()\n",
    "    finalList  = list()\n",
    "\n",
    "\n",
    "    for x in lista:\n",
    "        numericalAList = list([int(y) for y in x.split()])\n",
    "        rangeVt = int(numericalAList.pop(0))\n",
    "        result = SumList(numericalAList,list(range(rangeVt)))\n",
    "        resultList = list([result,rangeVt]+numericalAList)\n",
    "        finalList.append(resultList)\n",
    "    \n",
    "    fb = open(outputFile,'w')\n",
    "    for x in finalList:\n",
    "        fb.writelines(\" \".join([str(y) for y in x]))\n",
    "        fb.writelines(\"\\n\")"
   ]
  },
  {
   "cell_type": "code",
   "execution_count": 11,
   "metadata": {},
   "outputs": [],
   "source": [
    "AddNWrite('a.txt','b.txt')\n",
    "\n"
   ]
  }
 ],
 "metadata": {
  "kernelspec": {
   "display_name": "Python 3.10.9 64-bit (microsoft store)",
   "language": "python",
   "name": "python3"
  },
  "language_info": {
   "codemirror_mode": {
    "name": "ipython",
    "version": 3
   },
   "file_extension": ".py",
   "mimetype": "text/x-python",
   "name": "python",
   "nbconvert_exporter": "python",
   "pygments_lexer": "ipython3",
   "version": "3.10.10"
  },
  "orig_nbformat": 4,
  "vscode": {
   "interpreter": {
    "hash": "1d48a1dbea6ea57f9032d9f725a19bca611f6b358bd98ba120cd05a2397549f5"
   }
  }
 },
 "nbformat": 4,
 "nbformat_minor": 2
}
