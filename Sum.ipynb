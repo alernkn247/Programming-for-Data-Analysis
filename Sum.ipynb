{
 "cells": [
  {
   "cell_type": "code",
   "execution_count": 6,
   "metadata": {},
   "outputs": [],
   "source": [
    "def Sum(a,b,n):\n",
    "    listNumbers = list(range(1,n+1))\n",
    "    listNumbers = list(filter(lambda x: (((x %a==0) or (x % b ==0)) and x<n),listNumbers))\n",
    "    return sum(listNumbers)"
   ]
  },
  {
   "cell_type": "code",
   "execution_count": 7,
   "metadata": {},
   "outputs": [
    {
     "name": "stdout",
     "output_type": "stream",
     "text": [
      "23\n"
     ]
    }
   ],
   "source": [
    "print(Sum(3,5,10))"
   ]
  }
 ],
 "metadata": {
  "kernelspec": {
   "display_name": "Python 3.10.9 64-bit (microsoft store)",
   "language": "python",
   "name": "python3"
  },
  "language_info": {
   "codemirror_mode": {
    "name": "ipython",
    "version": 3
   },
   "file_extension": ".py",
   "mimetype": "text/x-python",
   "name": "python",
   "nbconvert_exporter": "python",
   "pygments_lexer": "ipython3",
   "version": "3.10.9"
  },
  "orig_nbformat": 4,
  "vscode": {
   "interpreter": {
    "hash": "1d48a1dbea6ea57f9032d9f725a19bca611f6b358bd98ba120cd05a2397549f5"
   }
  }
 },
 "nbformat": 4,
 "nbformat_minor": 2
}
