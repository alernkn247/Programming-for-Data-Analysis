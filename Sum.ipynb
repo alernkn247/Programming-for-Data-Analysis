{
 "cells": [
  {
   "cell_type": "code",
   "execution_count": 33,
   "metadata": {},
   "outputs": [],
   "source": [
    "def Sum(a:list,l:list):\n",
    "    listNumbers = list(filter(lambda x: len([y for y in a if x%y==0])>0,l))\n",
    "    return sum(listNumbers)"
   ]
  },
  {
   "cell_type": "code",
   "execution_count": 36,
   "metadata": {},
   "outputs": [
    {
     "name": "stdout",
     "output_type": "stream",
     "text": [
      "40\n"
     ]
    }
   ],
   "source": [
    "print(Sum(list([3,5,7]),list([1,2,3,4,5,6,7,8,9,10])))"
   ]
  }
 ],
 "metadata": {
  "kernelspec": {
   "display_name": "Python 3.10.9 64-bit (microsoft store)",
   "language": "python",
   "name": "python3"
  },
  "language_info": {
   "codemirror_mode": {
    "name": "ipython",
    "version": 3
   },
   "file_extension": ".py",
   "mimetype": "text/x-python",
   "name": "python",
   "nbconvert_exporter": "python",
   "pygments_lexer": "ipython3",
   "version": "3.10.9"
  },
  "orig_nbformat": 4,
  "vscode": {
   "interpreter": {
    "hash": "1d48a1dbea6ea57f9032d9f725a19bca611f6b358bd98ba120cd05a2397549f5"
   }
  }
 },
 "nbformat": 4,
 "nbformat_minor": 2
}
